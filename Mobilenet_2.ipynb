{
 "cells": [
  {
   "cell_type": "code",
   "execution_count": 2,
   "metadata": {},
   "outputs": [
    {
     "data": {
      "text/plain": [
       "'1.8.0'"
      ]
     },
     "execution_count": 2,
     "metadata": {},
     "output_type": "execute_result"
    }
   ],
   "source": [
    "import tensorflow as tf\n",
    "tf.__version__"
   ]
  },
  {
   "cell_type": "code",
   "execution_count": 1,
   "metadata": {},
   "outputs": [
    {
     "name": "stderr",
     "output_type": "stream",
     "text": [
      "Using TensorFlow backend.\n"
     ]
    }
   ],
   "source": [
    "import keras\n",
    "from keras import Model, backend, Sequential\n",
    "from keras.layers import Dense\n",
    "from keras.activations import relu\n",
    "from keras.optimizers import SGD\n",
    "from keras.preprocessing.image import ImageDataGenerator\n",
    "from keras.applications.mobilenet_v2 import MobileNetV2\n",
    "from keras.models import save_model, load_model"
   ]
  },
  {
   "cell_type": "code",
   "execution_count": 2,
   "metadata": {},
   "outputs": [],
   "source": [
    "NUM_OF_CLASS = 9\n",
    "EPOCHS = 100\n",
    "BATCH_SIZE = 16\n",
    "LEARNING_RATE = 0.001"
   ]
  },
  {
   "cell_type": "code",
   "execution_count": 3,
   "metadata": {},
   "outputs": [
    {
     "name": "stdout",
     "output_type": "stream",
     "text": [
      "Found 9063 images belonging to 9 classes.\n",
      "Found 450 images belonging to 9 classes.\n"
     ]
    }
   ],
   "source": [
    "train_dir = './new_dataset/train'\n",
    "val_dir = './new_dataset/val'\n",
    "\n",
    "train_batches = ImageDataGenerator(preprocessing_function=keras.applications.mobilenet.preprocess_input).flow_from_directory(\n",
    "    train_dir,\n",
    "    target_size=(224, 224), \n",
    "    class_mode='categorical', \n",
    "    batch_size=BATCH_SIZE, \n",
    "    shuffle=True)\n",
    "test_batches = ImageDataGenerator(preprocessing_function=keras.applications.mobilenet.preprocess_input).flow_from_directory(\n",
    "    val_dir, \n",
    "    target_size=(224, 224), \n",
    "    class_mode='categorical', \n",
    "    batch_size=BATCH_SIZE, \n",
    "    shuffle=True)"
   ]
  },
  {
   "cell_type": "code",
   "execution_count": 4,
   "metadata": {},
   "outputs": [
    {
     "name": "stdout",
     "output_type": "stream",
     "text": [
      "Downloading data from https://github.com/JonathanCMitchell/mobilenet_v2_keras/releases/download/v1.1/mobilenet_v2_weights_tf_dim_ordering_tf_kernels_1.0_224.h5\n",
      "14540800/14536120 [==============================] - 7s 1us/step\n"
     ]
    }
   ],
   "source": [
    "from keras.layers import Conv2D,MaxPool2D,GlobalAveragePooling2D\n",
    "\n",
    "# Define network\n",
    "mobilenet = keras.applications.mobilenet_v2.MobileNetV2(backend=keras.backend, layers=keras.layers, models=keras.models, utils=keras.utils)\n",
    "\n",
    "x = mobilenet.layers[-2].output\n",
    "x = Dense(128, activation='relu')(x)\n",
    "predictions = Dense(NUM_OF_CLASS, activation='softmax')(x)\n",
    "\n",
    "model = Model(inputs=mobilenet.input, outputs=predictions)\n",
    "model.compile(SGD(lr=LEARNING_RATE), loss='categorical_crossentropy', metrics=['accuracy'])"
   ]
  },
  {
   "cell_type": "code",
   "execution_count": 5,
   "metadata": {},
   "outputs": [
    {
     "name": "stdout",
     "output_type": "stream",
     "text": [
      "Epoch 1/100\n",
      " - 14s - loss: 2.0653 - acc: 0.2938 - val_loss: 2.7172 - val_acc: 0.2062\n",
      "Epoch 2/100\n",
      " - 5s - loss: 1.5997 - acc: 0.4688 - val_loss: 2.7739 - val_acc: 0.2625\n",
      "Epoch 3/100\n",
      " - 6s - loss: 1.5473 - acc: 0.5125 - val_loss: 1.9040 - val_acc: 0.3493\n",
      "Epoch 4/100\n",
      " - 5s - loss: 0.9414 - acc: 0.6625 - val_loss: 1.7171 - val_acc: 0.4062\n",
      "Epoch 5/100\n",
      " - 5s - loss: 1.0417 - acc: 0.6562 - val_loss: 2.3686 - val_acc: 0.4625\n",
      "Epoch 6/100\n",
      " - 6s - loss: 1.2309 - acc: 0.5875 - val_loss: 1.5880 - val_acc: 0.5000\n",
      "Epoch 7/100\n",
      " - 6s - loss: 0.7849 - acc: 0.7250 - val_loss: 1.9933 - val_acc: 0.4125\n",
      "Epoch 8/100\n",
      " - 5s - loss: 0.9723 - acc: 0.6937 - val_loss: 3.6603 - val_acc: 0.3187\n",
      "Epoch 9/100\n",
      " - 5s - loss: 1.2153 - acc: 0.5750 - val_loss: 1.6620 - val_acc: 0.4726\n",
      "Epoch 10/100\n",
      " - 5s - loss: 0.6242 - acc: 0.7875 - val_loss: 1.0858 - val_acc: 0.6375\n",
      "Epoch 11/100\n",
      " - 5s - loss: 0.7062 - acc: 0.7750 - val_loss: 1.1413 - val_acc: 0.6500\n",
      "Epoch 12/100\n",
      " - 6s - loss: 0.4761 - acc: 0.8500 - val_loss: 1.0608 - val_acc: 0.7123\n",
      "Epoch 13/100\n",
      " - 5s - loss: 0.6002 - acc: 0.8313 - val_loss: 1.4486 - val_acc: 0.5813\n",
      "Epoch 14/100\n",
      " - 5s - loss: 0.6188 - acc: 0.7750 - val_loss: 1.0541 - val_acc: 0.6500\n",
      "Epoch 15/100\n",
      " - 6s - loss: 0.5540 - acc: 0.8313 - val_loss: 0.8862 - val_acc: 0.7192\n",
      "Epoch 16/100\n",
      " - 6s - loss: 0.4338 - acc: 0.8938 - val_loss: 1.2733 - val_acc: 0.6500\n",
      "Epoch 17/100\n",
      " - 5s - loss: 0.5199 - acc: 0.8375 - val_loss: 0.9858 - val_acc: 0.6813\n",
      "Epoch 18/100\n",
      " - 6s - loss: 0.4023 - acc: 0.8438 - val_loss: 0.6936 - val_acc: 0.7945\n",
      "Epoch 19/100\n",
      " - 5s - loss: 0.5456 - acc: 0.8125 - val_loss: 0.8762 - val_acc: 0.7063\n",
      "Epoch 20/100\n",
      " - 5s - loss: 0.5163 - acc: 0.8500 - val_loss: 0.7139 - val_acc: 0.7688\n",
      "Epoch 21/100\n",
      " - 5s - loss: 0.4532 - acc: 0.8500 - val_loss: 0.7300 - val_acc: 0.7466\n",
      "Epoch 22/100\n",
      " - 5s - loss: 0.3074 - acc: 0.8812 - val_loss: 0.8253 - val_acc: 0.7438\n",
      "Epoch 23/100\n",
      " - 5s - loss: 0.3914 - acc: 0.8313 - val_loss: 0.5349 - val_acc: 0.8562\n",
      "Epoch 24/100\n",
      " - 6s - loss: 0.4548 - acc: 0.8313 - val_loss: 0.7951 - val_acc: 0.7740\n",
      "Epoch 25/100\n",
      " - 5s - loss: 0.4433 - acc: 0.8688 - val_loss: 0.5020 - val_acc: 0.8313\n",
      "Epoch 26/100\n",
      " - 5s - loss: 0.4141 - acc: 0.8625 - val_loss: 0.5716 - val_acc: 0.7812\n",
      "Epoch 27/100\n",
      " - 5s - loss: 0.4270 - acc: 0.8812 - val_loss: 0.8586 - val_acc: 0.6781\n",
      "Epoch 28/100\n",
      " - 5s - loss: 0.3477 - acc: 0.8812 - val_loss: 0.8657 - val_acc: 0.7250\n",
      "Epoch 29/100\n",
      " - 5s - loss: 0.3843 - acc: 0.8875 - val_loss: 0.7506 - val_acc: 0.7329\n",
      "Epoch 30/100\n",
      " - 5s - loss: 0.3176 - acc: 0.8688 - val_loss: 0.6920 - val_acc: 0.7438\n",
      "Epoch 31/100\n",
      " - 5s - loss: 0.3494 - acc: 0.8875 - val_loss: 0.7536 - val_acc: 0.8000\n",
      "Epoch 32/100\n",
      " - 5s - loss: 0.4052 - acc: 0.8688 - val_loss: 0.6442 - val_acc: 0.7603\n",
      "Epoch 33/100\n",
      " - 5s - loss: 0.3321 - acc: 0.8812 - val_loss: 0.6025 - val_acc: 0.8000\n",
      "Epoch 34/100\n",
      " - 5s - loss: 0.4196 - acc: 0.8750 - val_loss: 0.7589 - val_acc: 0.7875\n",
      "Epoch 35/100\n",
      " - 5s - loss: 0.1792 - acc: 0.9625 - val_loss: 0.7458 - val_acc: 0.7671\n",
      "Epoch 36/100\n",
      " - 5s - loss: 0.3385 - acc: 0.8750 - val_loss: 0.6347 - val_acc: 0.7562\n",
      "Epoch 37/100\n",
      " - 5s - loss: 0.3283 - acc: 0.8938 - val_loss: 0.7204 - val_acc: 0.7438\n",
      "Epoch 38/100\n",
      " - 6s - loss: 0.3381 - acc: 0.8812 - val_loss: 0.6661 - val_acc: 0.7808\n",
      "Epoch 39/100\n",
      " - 5s - loss: 0.2720 - acc: 0.9187 - val_loss: 0.6500 - val_acc: 0.7688\n",
      "Epoch 40/100\n",
      " - 5s - loss: 0.2516 - acc: 0.9313 - val_loss: 0.5835 - val_acc: 0.7937\n",
      "Epoch 41/100\n",
      " - 6s - loss: 0.2802 - acc: 0.8875 - val_loss: 0.5967 - val_acc: 0.7603\n",
      "Epoch 42/100\n",
      " - 5s - loss: 0.3088 - acc: 0.8938 - val_loss: 0.5035 - val_acc: 0.8313\n",
      "Epoch 43/100\n",
      " - 5s - loss: 0.3408 - acc: 0.8938 - val_loss: 0.6226 - val_acc: 0.7812\n",
      "Epoch 44/100\n",
      " - 6s - loss: 0.3799 - acc: 0.8500 - val_loss: 0.5312 - val_acc: 0.8425\n",
      "Epoch 45/100\n",
      " - 6s - loss: 0.3144 - acc: 0.8932 - val_loss: 0.3740 - val_acc: 0.8500\n",
      "Epoch 46/100\n",
      " - 5s - loss: 0.2524 - acc: 0.8812 - val_loss: 0.5026 - val_acc: 0.8500\n",
      "Epoch 47/100\n",
      " - 5s - loss: 0.2893 - acc: 0.8688 - val_loss: 0.5738 - val_acc: 0.8219\n",
      "Epoch 48/100\n",
      " - 5s - loss: 0.3840 - acc: 0.8750 - val_loss: 0.5664 - val_acc: 0.8063\n",
      "Epoch 49/100\n",
      " - 5s - loss: 0.2194 - acc: 0.9313 - val_loss: 0.4874 - val_acc: 0.8250\n",
      "Epoch 50/100\n",
      " - 6s - loss: 0.2122 - acc: 0.9313 - val_loss: 0.5083 - val_acc: 0.8288\n",
      "Epoch 51/100\n",
      " - 5s - loss: 0.1727 - acc: 0.9437 - val_loss: 0.6197 - val_acc: 0.7875\n",
      "Epoch 52/100\n",
      " - 6s - loss: 0.1998 - acc: 0.9375 - val_loss: 0.5056 - val_acc: 0.8063\n",
      "Epoch 53/100\n",
      " - 5s - loss: 0.3790 - acc: 0.8625 - val_loss: 0.4936 - val_acc: 0.8356\n",
      "Epoch 54/100\n",
      " - 5s - loss: 0.2963 - acc: 0.8875 - val_loss: 0.6127 - val_acc: 0.8000\n",
      "Epoch 55/100\n",
      " - 5s - loss: 0.2797 - acc: 0.9062 - val_loss: 0.5021 - val_acc: 0.8562\n",
      "Epoch 56/100\n",
      " - 6s - loss: 0.2775 - acc: 0.9125 - val_loss: 0.4420 - val_acc: 0.8562\n",
      "Epoch 57/100\n",
      " - 5s - loss: 0.2579 - acc: 0.9250 - val_loss: 0.5734 - val_acc: 0.7937\n",
      "Epoch 58/100\n",
      " - 5s - loss: 0.2580 - acc: 0.9125 - val_loss: 0.6361 - val_acc: 0.8014\n",
      "Epoch 59/100\n",
      " - 5s - loss: 0.1960 - acc: 0.9313 - val_loss: 0.6329 - val_acc: 0.7937\n",
      "Epoch 60/100\n",
      " - 5s - loss: 0.2369 - acc: 0.9125 - val_loss: 0.4205 - val_acc: 0.8625\n",
      "Epoch 61/100\n",
      " - 6s - loss: 0.1504 - acc: 0.9625 - val_loss: 0.6514 - val_acc: 0.7534\n",
      "Epoch 62/100\n",
      " - 5s - loss: 0.3550 - acc: 0.8750 - val_loss: 0.5494 - val_acc: 0.8125\n",
      "Epoch 63/100\n",
      " - 6s - loss: 0.2182 - acc: 0.9187 - val_loss: 0.4939 - val_acc: 0.8000\n",
      "Epoch 64/100\n",
      " - 6s - loss: 0.2518 - acc: 0.9250 - val_loss: 0.5885 - val_acc: 0.8082\n",
      "Epoch 65/100\n",
      " - 5s - loss: 0.2355 - acc: 0.9250 - val_loss: 0.6483 - val_acc: 0.7438\n"
     ]
    }
   ],
   "source": [
    "from tensorflow.python.keras.callbacks import EarlyStopping, ModelCheckpoint\n",
    "from keras.callbacks import LearningRateScheduler\n",
    "import math\n",
    "\n",
    "def step_decay(epoch):\n",
    "    initial_lrate=0.1\n",
    "    drop=0.5\n",
    "    epochs_drop = 10.0\n",
    "    lrate = initial_lrate * math.pow(drop, math.floor((1+epoch)/epochs_drop))\n",
    "    return lrate\n",
    "\n",
    "lrate = LearningRateScheduler(step_decay)\n",
    "\n",
    "EARLY_STOP_PARIENCE = 20\n",
    "\n",
    "cb_early_stopper = EarlyStopping(monitor='val_loss', patience=EARLY_STOP_PARIENCE)\n",
    "cb_checkpointer = ModelCheckpoint(filepath='./best_MobileNetV2.h5', monitor='val_loss',save_best_only=True, mode='auto')\n",
    "\n",
    "history = model.fit_generator(train_batches, steps_per_epoch=10, validation_data=test_batches, validation_steps=10, epochs=EPOCHS, verbose=2, callbacks=[cb_checkpointer, cb_early_stopper, lrate])"
   ]
  },
  {
   "cell_type": "code",
   "execution_count": null,
   "metadata": {},
   "outputs": [],
   "source": []
  },
  {
   "cell_type": "code",
   "execution_count": null,
   "metadata": {},
   "outputs": [],
   "source": []
  },
  {
   "cell_type": "code",
   "execution_count": null,
   "metadata": {},
   "outputs": [],
   "source": []
  },
  {
   "cell_type": "code",
   "execution_count": null,
   "metadata": {},
   "outputs": [],
   "source": []
  },
  {
   "cell_type": "code",
   "execution_count": null,
   "metadata": {},
   "outputs": [],
   "source": []
  },
  {
   "cell_type": "code",
   "execution_count": null,
   "metadata": {},
   "outputs": [],
   "source": []
  }
 ],
 "metadata": {
  "kernelspec": {
   "display_name": "Python 3",
   "language": "python",
   "name": "python3"
  },
  "language_info": {
   "codemirror_mode": {
    "name": "ipython",
    "version": 3
   },
   "file_extension": ".py",
   "mimetype": "text/x-python",
   "name": "python",
   "nbconvert_exporter": "python",
   "pygments_lexer": "ipython3",
   "version": "3.6.7"
  }
 },
 "nbformat": 4,
 "nbformat_minor": 4
}
